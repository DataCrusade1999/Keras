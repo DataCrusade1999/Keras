{
  "nbformat": 4,
  "nbformat_minor": 0,
  "metadata": {
    "colab": {
      "name": "Keras.ipynb",
      "provenance": [],
      "authorship_tag": "ABX9TyN5hCqtP98T8RdApfESv1/c",
      "include_colab_link": true
    },
    "kernelspec": {
      "name": "python3",
      "display_name": "Python 3"
    }
  },
  "cells": [
    {
      "cell_type": "markdown",
      "metadata": {
        "id": "view-in-github",
        "colab_type": "text"
      },
      "source": [
        "<a href=\"https://colab.research.google.com/github/DataCrusade1999/silver-umbrella/blob/main/Keras.ipynb\" target=\"_parent\"><img src=\"https://colab.research.google.com/assets/colab-badge.svg\" alt=\"Open In Colab\"/></a>"
      ]
    },
    {
      "cell_type": "code",
      "metadata": {
        "id": "beb24kcaYWdv"
      },
      "source": [
        "import numpy as np\n",
        "import pandas as pd\n",
        "import tensorflow as tf\n",
        "from tensorflow import keras\n",
        "from random import randint\n",
        "from sklearn.utils import shuffle\n",
        "from sklearn.preprocessing import MinMaxScaler\n",
        "from tensorflow.keras.models import Sequential\n",
        "from tensorflow.keras.layers import Activation,Dense\n",
        "from tensorflow.keras.optimizers import Adam\n",
        "from tensorflow.keras.metrics import categorical_crossentropy"
      ],
      "execution_count": 135,
      "outputs": []
    },
    {
      "cell_type": "code",
      "metadata": {
        "id": "qtHO9lBjgIcl"
      },
      "source": [
        "train_labels=[]\n",
        "train_samples=[]\n",
        "for i in range(50):\n",
        "  random_younger=randint(13,64)\n",
        "  train_samples.append(random_younger)\n",
        "  train_labels.append(1)\n",
        "  random_older=randint(65,100)\n",
        "  train_samples.append(random_older)\n",
        "  train_labels.append(0)\n",
        "for i in range(1000):\n",
        "  random_younger=randint(13,64)\n",
        "  train_samples.append(random_younger)\n",
        "  train_labels.append(0)\n",
        "  random_older=randint(65,100)\n",
        "  train_samples.append(random_older)\n",
        "  train_labels.append(1)\n",
        "  "
      ],
      "execution_count": 136,
      "outputs": []
    },
    {
      "cell_type": "code",
      "metadata": {
        "id": "qr7vmA5gzbIt"
      },
      "source": [
        "test_labels=[]\n",
        "test_samples=[]\n",
        "for i in range(50):\n",
        "  random_younger=randint(13,64)\n",
        "  test_samples.append(random_younger)\n",
        "  test_labels.append(1)\n",
        "  random_older=randint(65,100)\n",
        "  test_samples.append(random_older)\n",
        "  test_labels.append(0)\n",
        "for i in range(200):\n",
        "  random_younger=randint(13,64)\n",
        "  test_samples.append(random_younger)\n",
        "  test_labels.append(0)\n",
        "  random_older=randint(65,100)\n",
        "  test_samples.append(random_older)\n",
        "  test_labels.append(1)"
      ],
      "execution_count": 137,
      "outputs": []
    },
    {
      "cell_type": "code",
      "metadata": {
        "id": "fzQSiWwIjaSI"
      },
      "source": [
        "train_labels=np.array(train_labels)\n",
        "train_samples=np.array(train_samples)\n",
        "train_labels,train_samples=shuffle(train_labels,train_samples)\n",
        "scaler=MinMaxScaler(feature_range=(0,1))\n",
        "scaled_train_sample=scaler.fit_transform(train_samples.reshape(-1,1))"
      ],
      "execution_count": 138,
      "outputs": []
    },
    {
      "cell_type": "code",
      "metadata": {
        "id": "FjwRkmKSznwE"
      },
      "source": [
        "test_labels=np.array(test_labels)\n",
        "test_samples=np.array(test_samples)\n",
        "test_labels,test_samples=shuffle(test_labels,test_samples)\n",
        "scaled_test_sample=scaler.fit_transform(test_samples.reshape(-1,1))"
      ],
      "execution_count": 139,
      "outputs": []
    },
    {
      "cell_type": "code",
      "metadata": {
        "id": "2qrA9kUWmP1R"
      },
      "source": [
        "model=Sequential([Dense(units=16,input_shape=(1,),activation='relu'),Dense(units=32,activation='relu'),Dense(units=2,activation='softmax')])"
      ],
      "execution_count": 140,
      "outputs": []
    },
    {
      "cell_type": "code",
      "metadata": {
        "id": "dvyKIcmnqNe6",
        "outputId": "a7071548-3359-45df-fab3-14d4987df8c3",
        "colab": {
          "base_uri": "https://localhost:8080/",
          "height": 252
        }
      },
      "source": [
        "model.summary()"
      ],
      "execution_count": 141,
      "outputs": [
        {
          "output_type": "stream",
          "text": [
            "Model: \"sequential_9\"\n",
            "_________________________________________________________________\n",
            "Layer (type)                 Output Shape              Param #   \n",
            "=================================================================\n",
            "dense_27 (Dense)             (None, 16)                32        \n",
            "_________________________________________________________________\n",
            "dense_28 (Dense)             (None, 32)                544       \n",
            "_________________________________________________________________\n",
            "dense_29 (Dense)             (None, 2)                 66        \n",
            "=================================================================\n",
            "Total params: 642\n",
            "Trainable params: 642\n",
            "Non-trainable params: 0\n",
            "_________________________________________________________________\n"
          ],
          "name": "stdout"
        }
      ]
    },
    {
      "cell_type": "code",
      "metadata": {
        "id": "2xaGA56uqghS"
      },
      "source": [
        "model.compile(optimizer=Adam(learning_rate=0.0001),loss='sparse_categorical_crossentropy',metrics=['accuracy'])"
      ],
      "execution_count": 142,
      "outputs": []
    },
    {
      "cell_type": "code",
      "metadata": {
        "id": "6zC1E7vDrkHv",
        "outputId": "3d036c92-bf26-41de-98d3-05713fc7a4f6",
        "colab": {
          "base_uri": "https://localhost:8080/",
          "height": 1000
        }
      },
      "source": [
        "model.fit(x=scaled_train_sample,y=train_labels,validation_split=0.1,batch_size=10,epochs=30,shuffle=True,verbose=2)"
      ],
      "execution_count": 143,
      "outputs": [
        {
          "output_type": "stream",
          "text": [
            "Epoch 1/30\n",
            "189/189 - 0s - loss: 0.6857 - accuracy: 0.5392 - val_loss: 0.6809 - val_accuracy: 0.5190\n",
            "Epoch 2/30\n",
            "189/189 - 0s - loss: 0.6656 - accuracy: 0.6291 - val_loss: 0.6601 - val_accuracy: 0.6095\n",
            "Epoch 3/30\n",
            "189/189 - 0s - loss: 0.6404 - accuracy: 0.6947 - val_loss: 0.6373 - val_accuracy: 0.6810\n",
            "Epoch 4/30\n",
            "189/189 - 0s - loss: 0.6156 - accuracy: 0.7317 - val_loss: 0.6145 - val_accuracy: 0.7143\n",
            "Epoch 5/30\n",
            "189/189 - 0s - loss: 0.5898 - accuracy: 0.7577 - val_loss: 0.5895 - val_accuracy: 0.7381\n",
            "Epoch 6/30\n",
            "189/189 - 0s - loss: 0.5623 - accuracy: 0.7847 - val_loss: 0.5621 - val_accuracy: 0.7857\n",
            "Epoch 7/30\n",
            "189/189 - 0s - loss: 0.5337 - accuracy: 0.8116 - val_loss: 0.5353 - val_accuracy: 0.7952\n",
            "Epoch 8/30\n",
            "189/189 - 0s - loss: 0.5045 - accuracy: 0.8265 - val_loss: 0.5061 - val_accuracy: 0.8190\n",
            "Epoch 9/30\n",
            "189/189 - 0s - loss: 0.4758 - accuracy: 0.8497 - val_loss: 0.4781 - val_accuracy: 0.8429\n",
            "Epoch 10/30\n",
            "189/189 - 0s - loss: 0.4483 - accuracy: 0.8688 - val_loss: 0.4519 - val_accuracy: 0.8571\n",
            "Epoch 11/30\n",
            "189/189 - 0s - loss: 0.4225 - accuracy: 0.8868 - val_loss: 0.4286 - val_accuracy: 0.8667\n",
            "Epoch 12/30\n",
            "189/189 - 0s - loss: 0.3993 - accuracy: 0.8921 - val_loss: 0.4065 - val_accuracy: 0.8667\n",
            "Epoch 13/30\n",
            "189/189 - 0s - loss: 0.3775 - accuracy: 0.8989 - val_loss: 0.3860 - val_accuracy: 0.8952\n",
            "Epoch 14/30\n",
            "189/189 - 0s - loss: 0.3584 - accuracy: 0.9127 - val_loss: 0.3700 - val_accuracy: 0.8952\n",
            "Epoch 15/30\n",
            "189/189 - 0s - loss: 0.3423 - accuracy: 0.9138 - val_loss: 0.3565 - val_accuracy: 0.8952\n",
            "Epoch 16/30\n",
            "189/189 - 0s - loss: 0.3286 - accuracy: 0.9169 - val_loss: 0.3446 - val_accuracy: 0.9000\n",
            "Epoch 17/30\n",
            "189/189 - 0s - loss: 0.3171 - accuracy: 0.9254 - val_loss: 0.3353 - val_accuracy: 0.9000\n",
            "Epoch 18/30\n",
            "189/189 - 0s - loss: 0.3072 - accuracy: 0.9206 - val_loss: 0.3265 - val_accuracy: 0.9143\n",
            "Epoch 19/30\n",
            "189/189 - 0s - loss: 0.2993 - accuracy: 0.9270 - val_loss: 0.3195 - val_accuracy: 0.9143\n",
            "Epoch 20/30\n",
            "189/189 - 0s - loss: 0.2924 - accuracy: 0.9291 - val_loss: 0.3160 - val_accuracy: 0.9143\n",
            "Epoch 21/30\n",
            "189/189 - 0s - loss: 0.2868 - accuracy: 0.9275 - val_loss: 0.3104 - val_accuracy: 0.9190\n",
            "Epoch 22/30\n",
            "189/189 - 0s - loss: 0.2819 - accuracy: 0.9323 - val_loss: 0.3075 - val_accuracy: 0.9143\n",
            "Epoch 23/30\n",
            "189/189 - 0s - loss: 0.2776 - accuracy: 0.9328 - val_loss: 0.3046 - val_accuracy: 0.9143\n",
            "Epoch 24/30\n",
            "189/189 - 0s - loss: 0.2740 - accuracy: 0.9344 - val_loss: 0.3020 - val_accuracy: 0.9190\n",
            "Epoch 25/30\n",
            "189/189 - 0s - loss: 0.2709 - accuracy: 0.9328 - val_loss: 0.2989 - val_accuracy: 0.9190\n",
            "Epoch 26/30\n",
            "189/189 - 0s - loss: 0.2684 - accuracy: 0.9323 - val_loss: 0.2965 - val_accuracy: 0.9190\n",
            "Epoch 27/30\n",
            "189/189 - 0s - loss: 0.2659 - accuracy: 0.9344 - val_loss: 0.2952 - val_accuracy: 0.9190\n",
            "Epoch 28/30\n",
            "189/189 - 0s - loss: 0.2637 - accuracy: 0.9360 - val_loss: 0.2952 - val_accuracy: 0.9190\n",
            "Epoch 29/30\n",
            "189/189 - 0s - loss: 0.2619 - accuracy: 0.9344 - val_loss: 0.2921 - val_accuracy: 0.9190\n",
            "Epoch 30/30\n",
            "189/189 - 0s - loss: 0.2605 - accuracy: 0.9344 - val_loss: 0.2923 - val_accuracy: 0.9190\n"
          ],
          "name": "stdout"
        },
        {
          "output_type": "execute_result",
          "data": {
            "text/plain": [
              "<tensorflow.python.keras.callbacks.History at 0x7fa9bc1737b8>"
            ]
          },
          "metadata": {
            "tags": []
          },
          "execution_count": 143
        }
      ]
    },
    {
      "cell_type": "code",
      "metadata": {
        "id": "1lzr6-BXt7zn"
      },
      "source": [
        "predictions=model.predict(x=scaled_test_sample,batch_size=10,verbose=0)"
      ],
      "execution_count": 144,
      "outputs": []
    },
    {
      "cell_type": "code",
      "metadata": {
        "id": "Mw4FW3S45pha"
      },
      "source": [
        "rounded_predictions=np.argmax(predictions,axis=-1) #Easy To Interpret We Can loop(for) Through It"
      ],
      "execution_count": 146,
      "outputs": []
    }
  ]
}