{
  "nbformat": 4,
  "nbformat_minor": 0,
  "metadata": {
    "colab": {
      "name": "Keras.ipynb",
      "provenance": [],
      "collapsed_sections": [],
      "authorship_tag": "ABX9TyMWvXWSd6T7U/Y8QjlbpZ2j",
      "include_colab_link": true
    },
    "kernelspec": {
      "name": "python3",
      "display_name": "Python 3"
    }
  },
  "cells": [
    {
      "cell_type": "markdown",
      "metadata": {
        "id": "view-in-github",
        "colab_type": "text"
      },
      "source": [
        "<a href=\"https://colab.research.google.com/github/DataCrusade1999/silver-umbrella/blob/main/Keras.ipynb\" target=\"_parent\"><img src=\"https://colab.research.google.com/assets/colab-badge.svg\" alt=\"Open In Colab\"/></a>"
      ]
    },
    {
      "cell_type": "code",
      "metadata": {
        "id": "beb24kcaYWdv"
      },
      "source": [
        "import numpy as np\n",
        "import itertools\n",
        "import tensorflow as tf\n",
        "from tensorflow import keras\n",
        "from random import randint\n",
        "from sklearn.utils import shuffle\n",
        "from sklearn.metrics import confusion_matrix\n",
        "import matplotlib.pyplot as plt\n",
        "from sklearn.preprocessing import MinMaxScaler\n",
        "from tensorflow.keras.models import Sequential\n",
        "from tensorflow.keras.layers import Activation,Dense\n",
        "from tensorflow.keras.optimizers import Adam\n",
        "from tensorflow.keras.metrics import categorical_crossentropy"
      ],
      "execution_count": null,
      "outputs": []
    },
    {
      "cell_type": "markdown",
      "metadata": {
        "id": "4of2bRieGQ0C"
      },
      "source": [
        "**DATA**"
      ]
    },
    {
      "cell_type": "code",
      "metadata": {
        "id": "qtHO9lBjgIcl"
      },
      "source": [
        "train_labels=[]\n",
        "train_samples=[]\n",
        "for i in range(50):\n",
        "  random_younger=randint(13,64)\n",
        "  train_samples.append(random_younger)\n",
        "  train_labels.append(1)\n",
        "  random_older=randint(65,100)\n",
        "  train_samples.append(random_older)\n",
        "  train_labels.append(0)\n",
        "for i in range(1000):\n",
        "  random_younger=randint(13,64)\n",
        "  train_samples.append(random_younger)\n",
        "  train_labels.append(0)\n",
        "  random_older=randint(65,100)\n",
        "  train_samples.append(random_older)\n",
        "  train_labels.append(1)\n",
        "  "
      ],
      "execution_count": null,
      "outputs": []
    },
    {
      "cell_type": "code",
      "metadata": {
        "id": "qr7vmA5gzbIt"
      },
      "source": [
        "test_labels=[]\n",
        "test_samples=[]\n",
        "for i in range(50):\n",
        "  random_younger=randint(13,64)\n",
        "  test_samples.append(random_younger)\n",
        "  test_labels.append(1)\n",
        "  random_older=randint(65,100)\n",
        "  test_samples.append(random_older)\n",
        "  test_labels.append(0)\n",
        "for i in range(200):\n",
        "  random_younger=randint(13,64)\n",
        "  test_samples.append(random_younger)\n",
        "  test_labels.append(0)\n",
        "  random_older=randint(65,100)\n",
        "  test_samples.append(random_older)\n",
        "  test_labels.append(1)"
      ],
      "execution_count": null,
      "outputs": []
    },
    {
      "cell_type": "code",
      "metadata": {
        "id": "fzQSiWwIjaSI"
      },
      "source": [
        "train_labels=np.array(train_labels)\n",
        "train_samples=np.array(train_samples)\n",
        "train_labels,train_samples=shuffle(train_labels,train_samples)\n",
        "scaler=MinMaxScaler(feature_range=(0,1))\n",
        "scaled_train_sample=scaler.fit_transform(train_samples.reshape(-1,1))"
      ],
      "execution_count": null,
      "outputs": []
    },
    {
      "cell_type": "code",
      "metadata": {
        "id": "FjwRkmKSznwE"
      },
      "source": [
        "test_labels=np.array(test_labels)\n",
        "test_samples=np.array(test_samples)\n",
        "test_labels,test_samples=shuffle(test_labels,test_samples)\n",
        "scaled_test_sample=scaler.fit_transform(test_samples.reshape(-1,1))"
      ],
      "execution_count": null,
      "outputs": []
    },
    {
      "cell_type": "markdown",
      "metadata": {
        "id": "F_3989zYGWQX"
      },
      "source": [
        "**MODEL TRAINING**"
      ]
    },
    {
      "cell_type": "code",
      "metadata": {
        "id": "2qrA9kUWmP1R"
      },
      "source": [
        "model=Sequential([Dense(units=16,input_shape=(1,),activation='relu'),Dense(units=32,activation='relu'),Dense(units=2,activation='softmax')])"
      ],
      "execution_count": null,
      "outputs": []
    },
    {
      "cell_type": "code",
      "metadata": {
        "id": "dvyKIcmnqNe6",
        "outputId": "0c652b31-c1da-4aca-bb79-221c22f2185b",
        "colab": {
          "base_uri": "https://localhost:8080/",
          "height": 252
        }
      },
      "source": [
        "model.summary()"
      ],
      "execution_count": null,
      "outputs": [
        {
          "output_type": "stream",
          "text": [
            "Model: \"sequential_11\"\n",
            "_________________________________________________________________\n",
            "Layer (type)                 Output Shape              Param #   \n",
            "=================================================================\n",
            "dense_33 (Dense)             (None, 16)                32        \n",
            "_________________________________________________________________\n",
            "dense_34 (Dense)             (None, 32)                544       \n",
            "_________________________________________________________________\n",
            "dense_35 (Dense)             (None, 2)                 66        \n",
            "=================================================================\n",
            "Total params: 642\n",
            "Trainable params: 642\n",
            "Non-trainable params: 0\n",
            "_________________________________________________________________\n"
          ],
          "name": "stdout"
        }
      ]
    },
    {
      "cell_type": "code",
      "metadata": {
        "id": "2xaGA56uqghS"
      },
      "source": [
        "model.compile(optimizer=Adam(learning_rate=0.0001),loss='sparse_categorical_crossentropy',metrics=['accuracy'])"
      ],
      "execution_count": null,
      "outputs": []
    },
    {
      "cell_type": "code",
      "metadata": {
        "id": "6zC1E7vDrkHv",
        "outputId": "c6bfbd81-8e7e-4d1b-ea42-632a950c8bf6",
        "colab": {
          "base_uri": "https://localhost:8080/",
          "height": 1000
        }
      },
      "source": [
        "model.fit(x=scaled_train_sample,y=train_labels,validation_split=0.1,batch_size=10,epochs=30,shuffle=True,verbose=2)"
      ],
      "execution_count": null,
      "outputs": [
        {
          "output_type": "stream",
          "text": [
            "Epoch 1/30\n",
            "189/189 - 0s - loss: 0.6804 - accuracy: 0.5312 - val_loss: 0.6689 - val_accuracy: 0.6286\n",
            "Epoch 2/30\n",
            "189/189 - 0s - loss: 0.6616 - accuracy: 0.6571 - val_loss: 0.6467 - val_accuracy: 0.7000\n",
            "Epoch 3/30\n",
            "189/189 - 0s - loss: 0.6372 - accuracy: 0.7365 - val_loss: 0.6212 - val_accuracy: 0.7905\n",
            "Epoch 4/30\n",
            "189/189 - 0s - loss: 0.6101 - accuracy: 0.7862 - val_loss: 0.5952 - val_accuracy: 0.8238\n",
            "Epoch 5/30\n",
            "189/189 - 0s - loss: 0.5813 - accuracy: 0.8249 - val_loss: 0.5670 - val_accuracy: 0.8286\n",
            "Epoch 6/30\n",
            "189/189 - 0s - loss: 0.5500 - accuracy: 0.8534 - val_loss: 0.5370 - val_accuracy: 0.8381\n",
            "Epoch 7/30\n",
            "189/189 - 0s - loss: 0.5173 - accuracy: 0.8735 - val_loss: 0.5069 - val_accuracy: 0.8381\n",
            "Epoch 8/30\n",
            "189/189 - 0s - loss: 0.4849 - accuracy: 0.8862 - val_loss: 0.4784 - val_accuracy: 0.8619\n",
            "Epoch 9/30\n",
            "189/189 - 0s - loss: 0.4541 - accuracy: 0.8995 - val_loss: 0.4520 - val_accuracy: 0.8714\n",
            "Epoch 10/30\n",
            "189/189 - 0s - loss: 0.4260 - accuracy: 0.9074 - val_loss: 0.4283 - val_accuracy: 0.8714\n",
            "Epoch 11/30\n",
            "189/189 - 0s - loss: 0.4010 - accuracy: 0.9116 - val_loss: 0.4088 - val_accuracy: 0.8952\n",
            "Epoch 12/30\n",
            "189/189 - 0s - loss: 0.3792 - accuracy: 0.9106 - val_loss: 0.3929 - val_accuracy: 0.9048\n",
            "Epoch 13/30\n",
            "189/189 - 0s - loss: 0.3608 - accuracy: 0.9228 - val_loss: 0.3780 - val_accuracy: 0.9048\n",
            "Epoch 14/30\n",
            "189/189 - 0s - loss: 0.3454 - accuracy: 0.9180 - val_loss: 0.3677 - val_accuracy: 0.9143\n",
            "Epoch 15/30\n",
            "189/189 - 0s - loss: 0.3326 - accuracy: 0.9254 - val_loss: 0.3581 - val_accuracy: 0.9048\n",
            "Epoch 16/30\n",
            "189/189 - 0s - loss: 0.3222 - accuracy: 0.9201 - val_loss: 0.3521 - val_accuracy: 0.9143\n",
            "Epoch 17/30\n",
            "189/189 - 0s - loss: 0.3137 - accuracy: 0.9259 - val_loss: 0.3460 - val_accuracy: 0.9143\n",
            "Epoch 18/30\n",
            "189/189 - 0s - loss: 0.3063 - accuracy: 0.9259 - val_loss: 0.3418 - val_accuracy: 0.9143\n",
            "Epoch 19/30\n",
            "189/189 - 0s - loss: 0.3003 - accuracy: 0.9270 - val_loss: 0.3384 - val_accuracy: 0.9143\n",
            "Epoch 20/30\n",
            "189/189 - 0s - loss: 0.2953 - accuracy: 0.9296 - val_loss: 0.3360 - val_accuracy: 0.9143\n",
            "Epoch 21/30\n",
            "189/189 - 0s - loss: 0.2911 - accuracy: 0.9275 - val_loss: 0.3344 - val_accuracy: 0.9143\n",
            "Epoch 22/30\n",
            "189/189 - 0s - loss: 0.2875 - accuracy: 0.9302 - val_loss: 0.3327 - val_accuracy: 0.9143\n",
            "Epoch 23/30\n",
            "189/189 - 0s - loss: 0.2844 - accuracy: 0.9291 - val_loss: 0.3317 - val_accuracy: 0.9238\n",
            "Epoch 24/30\n",
            "189/189 - 0s - loss: 0.2817 - accuracy: 0.9339 - val_loss: 0.3300 - val_accuracy: 0.9143\n",
            "Epoch 25/30\n",
            "189/189 - 0s - loss: 0.2796 - accuracy: 0.9333 - val_loss: 0.3304 - val_accuracy: 0.9238\n",
            "Epoch 26/30\n",
            "189/189 - 0s - loss: 0.2775 - accuracy: 0.9333 - val_loss: 0.3290 - val_accuracy: 0.9238\n",
            "Epoch 27/30\n",
            "189/189 - 0s - loss: 0.2759 - accuracy: 0.9328 - val_loss: 0.3291 - val_accuracy: 0.9238\n",
            "Epoch 28/30\n",
            "189/189 - 0s - loss: 0.2745 - accuracy: 0.9344 - val_loss: 0.3277 - val_accuracy: 0.9238\n",
            "Epoch 29/30\n",
            "189/189 - 0s - loss: 0.2733 - accuracy: 0.9323 - val_loss: 0.3282 - val_accuracy: 0.9238\n",
            "Epoch 30/30\n",
            "189/189 - 0s - loss: 0.2719 - accuracy: 0.9344 - val_loss: 0.3266 - val_accuracy: 0.9238\n"
          ],
          "name": "stdout"
        },
        {
          "output_type": "execute_result",
          "data": {
            "text/plain": [
              "<tensorflow.python.keras.callbacks.History at 0x7fa9b63d55c0>"
            ]
          },
          "metadata": {
            "tags": []
          },
          "execution_count": 175
        }
      ]
    },
    {
      "cell_type": "markdown",
      "metadata": {
        "id": "tsEQJWzNGdjt"
      },
      "source": [
        "**PREDICTIONS**"
      ]
    },
    {
      "cell_type": "code",
      "metadata": {
        "id": "1lzr6-BXt7zn"
      },
      "source": [
        "predictions=model.predict(x=scaled_test_sample,batch_size=10,verbose=0)"
      ],
      "execution_count": null,
      "outputs": []
    },
    {
      "cell_type": "code",
      "metadata": {
        "id": "Mw4FW3S45pha"
      },
      "source": [
        "rounded_predictions=np.argmax(predictions,axis=-1) #Easy To Interpret We Can loop(for) Through It"
      ],
      "execution_count": null,
      "outputs": []
    },
    {
      "cell_type": "markdown",
      "metadata": {
        "id": "AYy2DF7KGh92"
      },
      "source": [
        "**CONFUSION MATRIX**"
      ]
    },
    {
      "cell_type": "code",
      "metadata": {
        "id": "HXfVdDWTEPqw"
      },
      "source": [
        "cm=confusion_matrix(y_true=test_labels,y_pred=rounded_predictions)"
      ],
      "execution_count": null,
      "outputs": []
    },
    {
      "cell_type": "code",
      "metadata": {
        "id": "oZgUIRAiKg0u"
      },
      "source": [
        "def plot_confusion_matrix(cm, classes,\n",
        "                        normalize=False,\n",
        "                        title='Confusion matrix',\n",
        "                        cmap=plt.cm.Blues):\n",
        "    \"\"\"\n",
        "    This function prints and plots the confusion matrix.\n",
        "    Normalization can be applied by setting `normalize=True.\n",
        "    \"\"\"\n",
        "    plt.imshow(cm, interpolation='nearest', cmap=cmap)\n",
        "    plt.title(title)\n",
        "    plt.colorbar()\n",
        "    tick_marks = np.arange(len(classes))\n",
        "    plt.xticks(tick_marks, classes, rotation=45)\n",
        "    plt.yticks(tick_marks, classes)\n",
        "\n",
        "    if normalize:\n",
        "        cm = cm.astype('float') / cm.sum(axis=1)[:, np.newaxis]\n",
        "        print(\"Normalized confusion matrix\")\n",
        "    else:\n",
        "        print('Confusion matrix, without normalization')\n",
        "\n",
        "    print(cm)\n",
        "\n",
        "    thresh = cm.max() / 2.\n",
        "    for i, j in itertools.product(range(cm.shape[0]), range(cm.shape[1])):\n",
        "        plt.text(j, i, cm[i, j],\n",
        "            horizontalalignment=\"center\",\n",
        "            color=\"white\" if cm[i, j] > thresh else \"black\")\n",
        "\n",
        "    plt.tight_layout()\n",
        "    plt.ylabel('True label')\n",
        "    plt.xlabel('Predicted label')"
      ],
      "execution_count": null,
      "outputs": []
    },
    {
      "cell_type": "code",
      "metadata": {
        "id": "G4UQz83aLnuu",
        "outputId": "bbcb1250-a42c-41a5-edb2-dba0384fe56b",
        "colab": {
          "base_uri": "https://localhost:8080/",
          "height": 362
        }
      },
      "source": [
        "cm_plot_label=['no side effects','had side effects']\n",
        "plot_confusion_matrix(cm=cm,classes=cm_plot_label)"
      ],
      "execution_count": null,
      "outputs": [
        {
          "output_type": "stream",
          "text": [
            "Confusion matrix, without normalization\n",
            "[[194  56]\n",
            " [ 49 201]]\n"
          ],
          "name": "stdout"
        },
        {
          "output_type": "display_data",
          "data": {
            "image/png": "[encoded data removed]",
            "text/plain": [
              "<Figure size 432x288 with 2 Axes>"
            ]
          },
          "metadata": {
            "tags": [],
            "needs_background": "light"
          }
        }
      ]
    },
    {
      "cell_type": "markdown",
      "metadata": {
        "id": "lCcKg0Q-eIr7"
      },
      "source": [
        "**SAVING THE MODEL**"
      ]
    },
    {
      "cell_type": "code",
      "metadata": {
        "id": "2VXW8iXwQQx5"
      },
      "source": [
        "import os.path\n",
        "model.save('saved_model/my_model.h5')"
      ],
      "execution_count": null,
      "outputs": []
    },
    {
      "cell_type": "code",
      "metadata": {
        "id": "-Wj1EM3CZclr"
      },
      "source": [
        "from tensorflow.keras.models import load_model\n",
        "N_model=load_model('saved_model/my_model.h5')\n"
      ],
      "execution_count": null,
      "outputs": []
    },
    {
      "cell_type": "code",
      "metadata": {
        "id": "JF-l7NnMZ4ti",
        "outputId": "e3822855-6cda-4c94-c203-c21e7382bef3",
        "colab": {
          "base_uri": "https://localhost:8080/",
          "height": 252
        }
      },
      "source": [
        "N_model.summary()"
      ],
      "execution_count": null,
      "outputs": [
        {
          "output_type": "stream",
          "text": [
            "Model: \"sequential_11\"\n",
            "_________________________________________________________________\n",
            "Layer (type)                 Output Shape              Param #   \n",
            "=================================================================\n",
            "dense_33 (Dense)             (None, 16)                32        \n",
            "_________________________________________________________________\n",
            "dense_34 (Dense)             (None, 32)                544       \n",
            "_________________________________________________________________\n",
            "dense_35 (Dense)             (None, 2)                 66        \n",
            "=================================================================\n",
            "Total params: 642\n",
            "Trainable params: 642\n",
            "Non-trainable params: 0\n",
            "_________________________________________________________________\n"
          ],
          "name": "stdout"
        }
      ]
    },
    {
      "cell_type": "code",
      "metadata": {
        "id": "Jhy5e5TfaKUy"
      },
      "source": [
        "N_model.get_weights()"
      ],
      "execution_count": null,
      "outputs": []
    },
    {
      "cell_type": "code",
      "metadata": {
        "id": "_nYb5yCfaP8r",
        "outputId": "06244904-1f5e-4fdf-9579-3a0ef97137a5",
        "colab": {
          "base_uri": "https://localhost:8080/",
          "height": 34
        }
      },
      "source": [
        "N_model.optimizer"
      ],
      "execution_count": null,
      "outputs": [
        {
          "output_type": "execute_result",
          "data": {
            "text/plain": [
              "<tensorflow.python.keras.optimizer_v2.adam.Adam at 0x7fa9b41f3320>"
            ]
          },
          "metadata": {
            "tags": []
          },
          "execution_count": 204
        }
      ]
    }
  ]
}